{
 "cells": [
  {
   "cell_type": "markdown",
   "id": "925e7631",
   "metadata": {
    "slideshow": {
     "slide_type": "slide"
    }
   },
   "source": [
    "# Ford GoBike System Data Exploration"
   ]
  },
  {
   "cell_type": "markdown",
   "id": "a9f736e1",
   "metadata": {
    "slideshow": {
     "slide_type": "slide"
    }
   },
   "source": [
    "## Preliminary Wrangling"
   ]
  },
  {
   "cell_type": "markdown",
   "id": "7a76d0ab",
   "metadata": {
    "slideshow": {
     "slide_type": "slide"
    }
   },
   "source": [
    "In this notebook we will explore the data and we will create new features (Feature Engineering) and visualize them and finally summarize our findings from these visuals.\n",
    "The Data set I will be working on is <b>Ford GoBike System Data</b>."
   ]
  },
  {
   "cell_type": "code",
   "execution_count": 1,
   "id": "3c089d4f",
   "metadata": {
    "slideshow": {
     "slide_type": "skip"
    }
   },
   "outputs": [
    {
     "name": "stdout",
     "output_type": "stream",
     "text": [
      "data shape : (183412, 16)\n"
     ]
    },
    {
     "data": {
      "text/html": [
       "<div>\n",
       "<style scoped>\n",
       "    .dataframe tbody tr th:only-of-type {\n",
       "        vertical-align: middle;\n",
       "    }\n",
       "\n",
       "    .dataframe tbody tr th {\n",
       "        vertical-align: top;\n",
       "    }\n",
       "\n",
       "    .dataframe thead th {\n",
       "        text-align: right;\n",
       "    }\n",
       "</style>\n",
       "<table border=\"1\" class=\"dataframe\">\n",
       "  <thead>\n",
       "    <tr style=\"text-align: right;\">\n",
       "      <th></th>\n",
       "      <th>duration_sec</th>\n",
       "      <th>start_time</th>\n",
       "      <th>end_time</th>\n",
       "      <th>start_station_id</th>\n",
       "      <th>start_station_name</th>\n",
       "      <th>start_station_latitude</th>\n",
       "      <th>start_station_longitude</th>\n",
       "      <th>end_station_id</th>\n",
       "      <th>end_station_name</th>\n",
       "      <th>end_station_latitude</th>\n",
       "      <th>end_station_longitude</th>\n",
       "      <th>bike_id</th>\n",
       "      <th>user_type</th>\n",
       "      <th>member_birth_year</th>\n",
       "      <th>member_gender</th>\n",
       "      <th>bike_share_for_all_trip</th>\n",
       "    </tr>\n",
       "  </thead>\n",
       "  <tbody>\n",
       "    <tr>\n",
       "      <th>0</th>\n",
       "      <td>52185</td>\n",
       "      <td>2019-02-28 17:32:10.1450</td>\n",
       "      <td>2019-03-01 08:01:55.9750</td>\n",
       "      <td>21.0</td>\n",
       "      <td>Montgomery St BART Station (Market St at 2nd St)</td>\n",
       "      <td>37.789625</td>\n",
       "      <td>-122.400811</td>\n",
       "      <td>13.0</td>\n",
       "      <td>Commercial St at Montgomery St</td>\n",
       "      <td>37.794231</td>\n",
       "      <td>-122.402923</td>\n",
       "      <td>4902</td>\n",
       "      <td>Customer</td>\n",
       "      <td>1984.0</td>\n",
       "      <td>Male</td>\n",
       "      <td>No</td>\n",
       "    </tr>\n",
       "    <tr>\n",
       "      <th>1</th>\n",
       "      <td>42521</td>\n",
       "      <td>2019-02-28 18:53:21.7890</td>\n",
       "      <td>2019-03-01 06:42:03.0560</td>\n",
       "      <td>23.0</td>\n",
       "      <td>The Embarcadero at Steuart St</td>\n",
       "      <td>37.791464</td>\n",
       "      <td>-122.391034</td>\n",
       "      <td>81.0</td>\n",
       "      <td>Berry St at 4th St</td>\n",
       "      <td>37.775880</td>\n",
       "      <td>-122.393170</td>\n",
       "      <td>2535</td>\n",
       "      <td>Customer</td>\n",
       "      <td>NaN</td>\n",
       "      <td>NaN</td>\n",
       "      <td>No</td>\n",
       "    </tr>\n",
       "    <tr>\n",
       "      <th>2</th>\n",
       "      <td>61854</td>\n",
       "      <td>2019-02-28 12:13:13.2180</td>\n",
       "      <td>2019-03-01 05:24:08.1460</td>\n",
       "      <td>86.0</td>\n",
       "      <td>Market St at Dolores St</td>\n",
       "      <td>37.769305</td>\n",
       "      <td>-122.426826</td>\n",
       "      <td>3.0</td>\n",
       "      <td>Powell St BART Station (Market St at 4th St)</td>\n",
       "      <td>37.786375</td>\n",
       "      <td>-122.404904</td>\n",
       "      <td>5905</td>\n",
       "      <td>Customer</td>\n",
       "      <td>1972.0</td>\n",
       "      <td>Male</td>\n",
       "      <td>No</td>\n",
       "    </tr>\n",
       "    <tr>\n",
       "      <th>3</th>\n",
       "      <td>36490</td>\n",
       "      <td>2019-02-28 17:54:26.0100</td>\n",
       "      <td>2019-03-01 04:02:36.8420</td>\n",
       "      <td>375.0</td>\n",
       "      <td>Grove St at Masonic Ave</td>\n",
       "      <td>37.774836</td>\n",
       "      <td>-122.446546</td>\n",
       "      <td>70.0</td>\n",
       "      <td>Central Ave at Fell St</td>\n",
       "      <td>37.773311</td>\n",
       "      <td>-122.444293</td>\n",
       "      <td>6638</td>\n",
       "      <td>Subscriber</td>\n",
       "      <td>1989.0</td>\n",
       "      <td>Other</td>\n",
       "      <td>No</td>\n",
       "    </tr>\n",
       "    <tr>\n",
       "      <th>4</th>\n",
       "      <td>1585</td>\n",
       "      <td>2019-02-28 23:54:18.5490</td>\n",
       "      <td>2019-03-01 00:20:44.0740</td>\n",
       "      <td>7.0</td>\n",
       "      <td>Frank H Ogawa Plaza</td>\n",
       "      <td>37.804562</td>\n",
       "      <td>-122.271738</td>\n",
       "      <td>222.0</td>\n",
       "      <td>10th Ave at E 15th St</td>\n",
       "      <td>37.792714</td>\n",
       "      <td>-122.248780</td>\n",
       "      <td>4898</td>\n",
       "      <td>Subscriber</td>\n",
       "      <td>1974.0</td>\n",
       "      <td>Male</td>\n",
       "      <td>Yes</td>\n",
       "    </tr>\n",
       "  </tbody>\n",
       "</table>\n",
       "</div>"
      ],
      "text/plain": [
       "   duration_sec                start_time                  end_time  \\\n",
       "0         52185  2019-02-28 17:32:10.1450  2019-03-01 08:01:55.9750   \n",
       "1         42521  2019-02-28 18:53:21.7890  2019-03-01 06:42:03.0560   \n",
       "2         61854  2019-02-28 12:13:13.2180  2019-03-01 05:24:08.1460   \n",
       "3         36490  2019-02-28 17:54:26.0100  2019-03-01 04:02:36.8420   \n",
       "4          1585  2019-02-28 23:54:18.5490  2019-03-01 00:20:44.0740   \n",
       "\n",
       "   start_station_id                                start_station_name  \\\n",
       "0              21.0  Montgomery St BART Station (Market St at 2nd St)   \n",
       "1              23.0                     The Embarcadero at Steuart St   \n",
       "2              86.0                           Market St at Dolores St   \n",
       "3             375.0                           Grove St at Masonic Ave   \n",
       "4               7.0                               Frank H Ogawa Plaza   \n",
       "\n",
       "   start_station_latitude  start_station_longitude  end_station_id  \\\n",
       "0               37.789625              -122.400811            13.0   \n",
       "1               37.791464              -122.391034            81.0   \n",
       "2               37.769305              -122.426826             3.0   \n",
       "3               37.774836              -122.446546            70.0   \n",
       "4               37.804562              -122.271738           222.0   \n",
       "\n",
       "                               end_station_name  end_station_latitude  \\\n",
       "0                Commercial St at Montgomery St             37.794231   \n",
       "1                            Berry St at 4th St             37.775880   \n",
       "2  Powell St BART Station (Market St at 4th St)             37.786375   \n",
       "3                        Central Ave at Fell St             37.773311   \n",
       "4                         10th Ave at E 15th St             37.792714   \n",
       "\n",
       "   end_station_longitude  bike_id   user_type  member_birth_year  \\\n",
       "0            -122.402923     4902    Customer             1984.0   \n",
       "1            -122.393170     2535    Customer                NaN   \n",
       "2            -122.404904     5905    Customer             1972.0   \n",
       "3            -122.444293     6638  Subscriber             1989.0   \n",
       "4            -122.248780     4898  Subscriber             1974.0   \n",
       "\n",
       "  member_gender bike_share_for_all_trip  \n",
       "0          Male                      No  \n",
       "1           NaN                      No  \n",
       "2          Male                      No  \n",
       "3         Other                      No  \n",
       "4          Male                     Yes  "
      ]
     },
     "execution_count": 1,
     "metadata": {},
     "output_type": "execute_result"
    }
   ],
   "source": [
    "# Loading all libraries and loading the data\n",
    "\n",
    "import numpy as np\n",
    "import pandas as pd\n",
    "import matplotlib.pyplot as plt\n",
    "import seaborn as sb\n",
    "\n",
    "%matplotlib inline\n",
    "\n",
    "df = pd.read_csv('201902-fordgobike-tripdata.csv')\n",
    "print('data shape : ' + str(df.shape))\n",
    "df.head()"
   ]
  },
  {
   "cell_type": "code",
   "execution_count": 2,
   "id": "85b2bdbe",
   "metadata": {
    "slideshow": {
     "slide_type": "skip"
    }
   },
   "outputs": [
    {
     "data": {
      "text/html": [
       "<div>\n",
       "<style scoped>\n",
       "    .dataframe tbody tr th:only-of-type {\n",
       "        vertical-align: middle;\n",
       "    }\n",
       "\n",
       "    .dataframe tbody tr th {\n",
       "        vertical-align: top;\n",
       "    }\n",
       "\n",
       "    .dataframe thead th {\n",
       "        text-align: right;\n",
       "    }\n",
       "</style>\n",
       "<table border=\"1\" class=\"dataframe\">\n",
       "  <thead>\n",
       "    <tr style=\"text-align: right;\">\n",
       "      <th></th>\n",
       "      <th>duration_sec</th>\n",
       "      <th>start_station_id</th>\n",
       "      <th>start_station_latitude</th>\n",
       "      <th>start_station_longitude</th>\n",
       "      <th>end_station_id</th>\n",
       "      <th>end_station_latitude</th>\n",
       "      <th>end_station_longitude</th>\n",
       "      <th>bike_id</th>\n",
       "      <th>member_birth_year</th>\n",
       "    </tr>\n",
       "  </thead>\n",
       "  <tbody>\n",
       "    <tr>\n",
       "      <th>count</th>\n",
       "      <td>183412.000000</td>\n",
       "      <td>183215.000000</td>\n",
       "      <td>183412.000000</td>\n",
       "      <td>183412.000000</td>\n",
       "      <td>183215.000000</td>\n",
       "      <td>183412.000000</td>\n",
       "      <td>183412.000000</td>\n",
       "      <td>183412.000000</td>\n",
       "      <td>175147.000000</td>\n",
       "    </tr>\n",
       "    <tr>\n",
       "      <th>mean</th>\n",
       "      <td>726.078435</td>\n",
       "      <td>138.590427</td>\n",
       "      <td>37.771223</td>\n",
       "      <td>-122.352664</td>\n",
       "      <td>136.249123</td>\n",
       "      <td>37.771427</td>\n",
       "      <td>-122.352250</td>\n",
       "      <td>4472.906375</td>\n",
       "      <td>1984.806437</td>\n",
       "    </tr>\n",
       "    <tr>\n",
       "      <th>std</th>\n",
       "      <td>1794.389780</td>\n",
       "      <td>111.778864</td>\n",
       "      <td>0.099581</td>\n",
       "      <td>0.117097</td>\n",
       "      <td>111.515131</td>\n",
       "      <td>0.099490</td>\n",
       "      <td>0.116673</td>\n",
       "      <td>1664.383394</td>\n",
       "      <td>10.116689</td>\n",
       "    </tr>\n",
       "    <tr>\n",
       "      <th>min</th>\n",
       "      <td>61.000000</td>\n",
       "      <td>3.000000</td>\n",
       "      <td>37.317298</td>\n",
       "      <td>-122.453704</td>\n",
       "      <td>3.000000</td>\n",
       "      <td>37.317298</td>\n",
       "      <td>-122.453704</td>\n",
       "      <td>11.000000</td>\n",
       "      <td>1878.000000</td>\n",
       "    </tr>\n",
       "    <tr>\n",
       "      <th>25%</th>\n",
       "      <td>325.000000</td>\n",
       "      <td>47.000000</td>\n",
       "      <td>37.770083</td>\n",
       "      <td>-122.412408</td>\n",
       "      <td>44.000000</td>\n",
       "      <td>37.770407</td>\n",
       "      <td>-122.411726</td>\n",
       "      <td>3777.000000</td>\n",
       "      <td>1980.000000</td>\n",
       "    </tr>\n",
       "    <tr>\n",
       "      <th>50%</th>\n",
       "      <td>514.000000</td>\n",
       "      <td>104.000000</td>\n",
       "      <td>37.780760</td>\n",
       "      <td>-122.398285</td>\n",
       "      <td>100.000000</td>\n",
       "      <td>37.781010</td>\n",
       "      <td>-122.398279</td>\n",
       "      <td>4958.000000</td>\n",
       "      <td>1987.000000</td>\n",
       "    </tr>\n",
       "    <tr>\n",
       "      <th>75%</th>\n",
       "      <td>796.000000</td>\n",
       "      <td>239.000000</td>\n",
       "      <td>37.797280</td>\n",
       "      <td>-122.286533</td>\n",
       "      <td>235.000000</td>\n",
       "      <td>37.797320</td>\n",
       "      <td>-122.288045</td>\n",
       "      <td>5502.000000</td>\n",
       "      <td>1992.000000</td>\n",
       "    </tr>\n",
       "    <tr>\n",
       "      <th>max</th>\n",
       "      <td>85444.000000</td>\n",
       "      <td>398.000000</td>\n",
       "      <td>37.880222</td>\n",
       "      <td>-121.874119</td>\n",
       "      <td>398.000000</td>\n",
       "      <td>37.880222</td>\n",
       "      <td>-121.874119</td>\n",
       "      <td>6645.000000</td>\n",
       "      <td>2001.000000</td>\n",
       "    </tr>\n",
       "  </tbody>\n",
       "</table>\n",
       "</div>"
      ],
      "text/plain": [
       "        duration_sec  start_station_id  start_station_latitude  \\\n",
       "count  183412.000000     183215.000000           183412.000000   \n",
       "mean      726.078435        138.590427               37.771223   \n",
       "std      1794.389780        111.778864                0.099581   \n",
       "min        61.000000          3.000000               37.317298   \n",
       "25%       325.000000         47.000000               37.770083   \n",
       "50%       514.000000        104.000000               37.780760   \n",
       "75%       796.000000        239.000000               37.797280   \n",
       "max     85444.000000        398.000000               37.880222   \n",
       "\n",
       "       start_station_longitude  end_station_id  end_station_latitude  \\\n",
       "count            183412.000000   183215.000000         183412.000000   \n",
       "mean               -122.352664      136.249123             37.771427   \n",
       "std                   0.117097      111.515131              0.099490   \n",
       "min                -122.453704        3.000000             37.317298   \n",
       "25%                -122.412408       44.000000             37.770407   \n",
       "50%                -122.398285      100.000000             37.781010   \n",
       "75%                -122.286533      235.000000             37.797320   \n",
       "max                -121.874119      398.000000             37.880222   \n",
       "\n",
       "       end_station_longitude        bike_id  member_birth_year  \n",
       "count          183412.000000  183412.000000      175147.000000  \n",
       "mean             -122.352250    4472.906375        1984.806437  \n",
       "std                 0.116673    1664.383394          10.116689  \n",
       "min              -122.453704      11.000000        1878.000000  \n",
       "25%              -122.411726    3777.000000        1980.000000  \n",
       "50%              -122.398279    4958.000000        1987.000000  \n",
       "75%              -122.288045    5502.000000        1992.000000  \n",
       "max              -121.874119    6645.000000        2001.000000  "
      ]
     },
     "execution_count": 2,
     "metadata": {},
     "output_type": "execute_result"
    }
   ],
   "source": [
    "df.describe()"
   ]
  },
  {
   "cell_type": "code",
   "execution_count": 3,
   "id": "3dbe2290",
   "metadata": {
    "slideshow": {
     "slide_type": "skip"
    }
   },
   "outputs": [
    {
     "name": "stdout",
     "output_type": "stream",
     "text": [
      "<class 'pandas.core.frame.DataFrame'>\n",
      "RangeIndex: 183412 entries, 0 to 183411\n",
      "Data columns (total 16 columns):\n",
      " #   Column                   Non-Null Count   Dtype  \n",
      "---  ------                   --------------   -----  \n",
      " 0   duration_sec             183412 non-null  int64  \n",
      " 1   start_time               183412 non-null  object \n",
      " 2   end_time                 183412 non-null  object \n",
      " 3   start_station_id         183215 non-null  float64\n",
      " 4   start_station_name       183215 non-null  object \n",
      " 5   start_station_latitude   183412 non-null  float64\n",
      " 6   start_station_longitude  183412 non-null  float64\n",
      " 7   end_station_id           183215 non-null  float64\n",
      " 8   end_station_name         183215 non-null  object \n",
      " 9   end_station_latitude     183412 non-null  float64\n",
      " 10  end_station_longitude    183412 non-null  float64\n",
      " 11  bike_id                  183412 non-null  int64  \n",
      " 12  user_type                183412 non-null  object \n",
      " 13  member_birth_year        175147 non-null  float64\n",
      " 14  member_gender            175147 non-null  object \n",
      " 15  bike_share_for_all_trip  183412 non-null  object \n",
      "dtypes: float64(7), int64(2), object(7)\n",
      "memory usage: 22.4+ MB\n"
     ]
    }
   ],
   "source": [
    "df.info()"
   ]
  },
  {
   "cell_type": "markdown",
   "id": "7ea78709",
   "metadata": {
    "slideshow": {
     "slide_type": "slide"
    }
   },
   "source": [
    "### What is the structure of your dataset?\n",
    "\n",
    "There are 18,3412 bike records in the dataset with 16 features ('duration_sec', 'start_time', 'end_time', 'start_station_id', 'start_station_name', 'start_station_latitude','start_station_longitude', 'end_station_id', 'end_station_name', 'end_station_latitude', 'end_station_longitude', 'bike_id', 'user_type','member_birth_year', 'member_gender', 'bike_share_for_all_trip'). Most variables are numeric in nature, but the variables member_gender and bike_share_for_all_trip are both categorical (nominal variables)."
   ]
  },
  {
   "cell_type": "markdown",
   "id": "853522f9",
   "metadata": {
    "slideshow": {
     "slide_type": "slide"
    }
   },
   "source": [
    "### What is/are the main feature(s) of interest in your dataset?\n",
    "I'm most interested in figuring out what features are best for predicting the average velocity (which is a feature that I am going to create using current features)(Feature Engineering). I will need to use the following features to calculate the average velocity for each ride [duration_sec, start_station_latitude , end_station_latitude , start_station_longitude , end_station_longitude ]."
   ]
  },
  {
   "cell_type": "markdown",
   "id": "c3b03b10",
   "metadata": {
    "slideshow": {
     "slide_type": "slide"
    }
   },
   "source": [
    "### What features in the dataset do you think will help support your investigation into your feature(s) of interest?\n",
    "I expect that member_birth_year (age) will have the strongest effect on the velocity: the younger the diamond, the faster the ride. I also think that the user_type and gender will affect the average velocity. I expect that men will be faster than women and subscribers will be faster than normal customers.\n",
    "\n",
    "In the next cells I will create the new features and I will do some data cleaning in the dataframe before we visualize the data. "
   ]
  },
  {
   "cell_type": "markdown",
   "id": "73007809",
   "metadata": {
    "slideshow": {
     "slide_type": "skip"
    }
   },
   "source": [
    "#### In the following code :\n",
    "* I dropped unnecessary columns.\n",
    "* The columns will be renamed.\n",
    "* I will drop all the rows with null or nan values (They are very small compared to the full data frame [8,265 entries from 183,412 enrties]).\n",
    "* We will create new age column from birth_year following that this data is gathered in 2019 after casting the birth year to integer.\n",
    "* Rows index will be reset and we will check that there are no null values in our rows."
   ]
  },
  {
   "cell_type": "code",
   "execution_count": 4,
   "id": "74773930",
   "metadata": {
    "slideshow": {
     "slide_type": "skip"
    }
   },
   "outputs": [
    {
     "name": "stdout",
     "output_type": "stream",
     "text": [
      "<class 'pandas.core.frame.DataFrame'>\n",
      "RangeIndex: 175147 entries, 0 to 175146\n",
      "Data columns (total 10 columns):\n",
      " #   Column                   Non-Null Count   Dtype  \n",
      "---  ------                   --------------   -----  \n",
      " 0   duration                 175147 non-null  int64  \n",
      " 1   start_station_latitude   175147 non-null  float64\n",
      " 2   start_station_longitude  175147 non-null  float64\n",
      " 3   end_station_latitude     175147 non-null  float64\n",
      " 4   end_station_longitude    175147 non-null  float64\n",
      " 5   user_type                175147 non-null  object \n",
      " 6   birth_year               175147 non-null  int32  \n",
      " 7   gender                   175147 non-null  object \n",
      " 8   bike_share               175147 non-null  object \n",
      " 9   age                      175147 non-null  int32  \n",
      "dtypes: float64(4), int32(2), int64(1), object(3)\n",
      "memory usage: 12.0+ MB\n"
     ]
    }
   ],
   "source": [
    "# Dropping all the unnecessary columns \n",
    "df.drop(axis = 1 , columns = ['start_time', 'end_time' , 'start_station_id',\n",
    "                              'start_station_name','end_station_id' ,'end_station_name', 'bike_id'] , inplace =True)\n",
    "# Renaming the columns to more appropriate names\n",
    "df.rename(columns= {'duration_sec' : 'duration' , 'member_birth_year' : 'birth_year' \n",
    "                    , 'member_gender' : 'gender' , 'bike_share_for_all_trip' : 'bike_share'},inplace = True)\n",
    "# Dropping all the rows with null values (or Nan) in gender and birth_year\n",
    "df.dropna(axis = 0 , subset = ['gender' , 'birth_year'] , inplace = True)\n",
    "# Creating the age column\n",
    "df['birth_year'] = df['birth_year'].astype(int)\n",
    "df['age'] = 2019 - df['birth_year']\n",
    "# Resetting index\n",
    "df.reset_index(inplace = True, drop = True)\n",
    "# Checking that there is no rows with null values\n",
    "df.info()"
   ]
  },
  {
   "cell_type": "markdown",
   "id": "59697830",
   "metadata": {
    "slideshow": {
     "slide_type": "skip"
    }
   },
   "source": [
    "#### Now let's create the average velocity colums with the following steps:\n",
    "1) We will compute the difference between both the start and ending for both latitude and magnitude.<br>\n",
    "2) Assuming that the difference between two consecutive latitudes is 111km and the difference between two consecutive longitude is 88 km (reference : https://www.usgs.gov/faqs/how-much-distance-does-a-degree-minute-and-second-cover-your-maps?qt-news_science_products=0#qt-news_science_products). We will calculate the displacement in both x and y directions in meters.<br>\n",
    "3) We will use pythagoras theorem to calculate the total <b>displacement</b>.<br>\n",
    "4) We will divide the displacement by time to get the average velocity in km/hour.(after scaling)<br>\n",
    "5) We will drop all unnecessary columns."
   ]
  },
  {
   "cell_type": "code",
   "execution_count": 5,
   "id": "a50725cd",
   "metadata": {
    "slideshow": {
     "slide_type": "skip"
    }
   },
   "outputs": [
    {
     "data": {
      "text/html": [
       "<div>\n",
       "<style scoped>\n",
       "    .dataframe tbody tr th:only-of-type {\n",
       "        vertical-align: middle;\n",
       "    }\n",
       "\n",
       "    .dataframe tbody tr th {\n",
       "        vertical-align: top;\n",
       "    }\n",
       "\n",
       "    .dataframe thead th {\n",
       "        text-align: right;\n",
       "    }\n",
       "</style>\n",
       "<table border=\"1\" class=\"dataframe\">\n",
       "  <thead>\n",
       "    <tr style=\"text-align: right;\">\n",
       "      <th></th>\n",
       "      <th>duration</th>\n",
       "      <th>start_station_latitude</th>\n",
       "      <th>start_station_longitude</th>\n",
       "      <th>end_station_latitude</th>\n",
       "      <th>end_station_longitude</th>\n",
       "      <th>user_type</th>\n",
       "      <th>birth_year</th>\n",
       "      <th>gender</th>\n",
       "      <th>bike_share</th>\n",
       "      <th>age</th>\n",
       "      <th>x_diff</th>\n",
       "      <th>y_diff</th>\n",
       "      <th>displacement</th>\n",
       "      <th>velocity</th>\n",
       "    </tr>\n",
       "  </thead>\n",
       "  <tbody>\n",
       "    <tr>\n",
       "      <th>0</th>\n",
       "      <td>52185</td>\n",
       "      <td>37.789625</td>\n",
       "      <td>-122.400811</td>\n",
       "      <td>37.794231</td>\n",
       "      <td>-122.402923</td>\n",
       "      <td>Customer</td>\n",
       "      <td>1984</td>\n",
       "      <td>Male</td>\n",
       "      <td>No</td>\n",
       "      <td>35</td>\n",
       "      <td>185.856000</td>\n",
       "      <td>511.221600</td>\n",
       "      <td>543.957698</td>\n",
       "      <td>0.037525</td>\n",
       "    </tr>\n",
       "    <tr>\n",
       "      <th>1</th>\n",
       "      <td>61854</td>\n",
       "      <td>37.769305</td>\n",
       "      <td>-122.426826</td>\n",
       "      <td>37.786375</td>\n",
       "      <td>-122.404904</td>\n",
       "      <td>Customer</td>\n",
       "      <td>1972</td>\n",
       "      <td>Male</td>\n",
       "      <td>No</td>\n",
       "      <td>47</td>\n",
       "      <td>1929.068633</td>\n",
       "      <td>1894.766516</td>\n",
       "      <td>2703.968554</td>\n",
       "      <td>0.157375</td>\n",
       "    </tr>\n",
       "    <tr>\n",
       "      <th>2</th>\n",
       "      <td>36490</td>\n",
       "      <td>37.774836</td>\n",
       "      <td>-122.446546</td>\n",
       "      <td>37.773311</td>\n",
       "      <td>-122.444293</td>\n",
       "      <td>Subscriber</td>\n",
       "      <td>1989</td>\n",
       "      <td>Other</td>\n",
       "      <td>No</td>\n",
       "      <td>30</td>\n",
       "      <td>198.268890</td>\n",
       "      <td>169.321091</td>\n",
       "      <td>260.730100</td>\n",
       "      <td>0.025723</td>\n",
       "    </tr>\n",
       "    <tr>\n",
       "      <th>3</th>\n",
       "      <td>1585</td>\n",
       "      <td>37.804562</td>\n",
       "      <td>-122.271738</td>\n",
       "      <td>37.792714</td>\n",
       "      <td>-122.248780</td>\n",
       "      <td>Subscriber</td>\n",
       "      <td>1974</td>\n",
       "      <td>Male</td>\n",
       "      <td>Yes</td>\n",
       "      <td>45</td>\n",
       "      <td>2020.343808</td>\n",
       "      <td>1315.134097</td>\n",
       "      <td>2410.677664</td>\n",
       "      <td>5.475356</td>\n",
       "    </tr>\n",
       "    <tr>\n",
       "      <th>4</th>\n",
       "      <td>1793</td>\n",
       "      <td>37.770407</td>\n",
       "      <td>-122.391198</td>\n",
       "      <td>37.798014</td>\n",
       "      <td>-122.405950</td>\n",
       "      <td>Subscriber</td>\n",
       "      <td>1959</td>\n",
       "      <td>Male</td>\n",
       "      <td>No</td>\n",
       "      <td>60</td>\n",
       "      <td>1298.178381</td>\n",
       "      <td>3064.293080</td>\n",
       "      <td>3327.936175</td>\n",
       "      <td>6.681857</td>\n",
       "    </tr>\n",
       "  </tbody>\n",
       "</table>\n",
       "</div>"
      ],
      "text/plain": [
       "   duration  start_station_latitude  start_station_longitude  \\\n",
       "0     52185               37.789625              -122.400811   \n",
       "1     61854               37.769305              -122.426826   \n",
       "2     36490               37.774836              -122.446546   \n",
       "3      1585               37.804562              -122.271738   \n",
       "4      1793               37.770407              -122.391198   \n",
       "\n",
       "   end_station_latitude  end_station_longitude   user_type  birth_year gender  \\\n",
       "0             37.794231            -122.402923    Customer        1984   Male   \n",
       "1             37.786375            -122.404904    Customer        1972   Male   \n",
       "2             37.773311            -122.444293  Subscriber        1989  Other   \n",
       "3             37.792714            -122.248780  Subscriber        1974   Male   \n",
       "4             37.798014            -122.405950  Subscriber        1959   Male   \n",
       "\n",
       "  bike_share  age       x_diff       y_diff  displacement  velocity  \n",
       "0         No   35   185.856000   511.221600    543.957698  0.037525  \n",
       "1         No   47  1929.068633  1894.766516   2703.968554  0.157375  \n",
       "2         No   30   198.268890   169.321091    260.730100  0.025723  \n",
       "3        Yes   45  2020.343808  1315.134097   2410.677664  5.475356  \n",
       "4         No   60  1298.178381  3064.293080   3327.936175  6.681857  "
      ]
     },
     "execution_count": 5,
     "metadata": {},
     "output_type": "execute_result"
    }
   ],
   "source": [
    "df['x_diff'] = np.abs(df['start_station_longitude'] - df['end_station_longitude']) * 88000\n",
    "df['y_diff'] = np.abs(df['start_station_latitude'] - df['end_station_latitude']) * 111000\n",
    "df['displacement'] = np.sqrt(np.square(df['x_diff']) + np.square(df['y_diff']))\n",
    "df['velocity'] = ( df['displacement'] / df['duration'] ) * 3.6\n",
    "df.head(5)"
   ]
  },
  {
   "cell_type": "code",
   "execution_count": 6,
   "id": "2ebb2f94",
   "metadata": {
    "slideshow": {
     "slide_type": "skip"
    }
   },
   "outputs": [
    {
     "data": {
      "text/html": [
       "<div>\n",
       "<style scoped>\n",
       "    .dataframe tbody tr th:only-of-type {\n",
       "        vertical-align: middle;\n",
       "    }\n",
       "\n",
       "    .dataframe tbody tr th {\n",
       "        vertical-align: top;\n",
       "    }\n",
       "\n",
       "    .dataframe thead th {\n",
       "        text-align: right;\n",
       "    }\n",
       "</style>\n",
       "<table border=\"1\" class=\"dataframe\">\n",
       "  <thead>\n",
       "    <tr style=\"text-align: right;\">\n",
       "      <th></th>\n",
       "      <th>age</th>\n",
       "      <th>velocity</th>\n",
       "    </tr>\n",
       "  </thead>\n",
       "  <tbody>\n",
       "    <tr>\n",
       "      <th>count</th>\n",
       "      <td>175147.000000</td>\n",
       "      <td>175147.000000</td>\n",
       "    </tr>\n",
       "    <tr>\n",
       "      <th>mean</th>\n",
       "      <td>34.193563</td>\n",
       "      <td>10.829835</td>\n",
       "    </tr>\n",
       "    <tr>\n",
       "      <th>std</th>\n",
       "      <td>10.116689</td>\n",
       "      <td>3.917192</td>\n",
       "    </tr>\n",
       "    <tr>\n",
       "      <th>min</th>\n",
       "      <td>18.000000</td>\n",
       "      <td>0.000000</td>\n",
       "    </tr>\n",
       "    <tr>\n",
       "      <th>25%</th>\n",
       "      <td>27.000000</td>\n",
       "      <td>8.718521</td>\n",
       "    </tr>\n",
       "    <tr>\n",
       "      <th>50%</th>\n",
       "      <td>32.000000</td>\n",
       "      <td>11.067475</td>\n",
       "    </tr>\n",
       "    <tr>\n",
       "      <th>75%</th>\n",
       "      <td>39.000000</td>\n",
       "      <td>13.358614</td>\n",
       "    </tr>\n",
       "    <tr>\n",
       "      <th>max</th>\n",
       "      <td>141.000000</td>\n",
       "      <td>35.947140</td>\n",
       "    </tr>\n",
       "  </tbody>\n",
       "</table>\n",
       "</div>"
      ],
      "text/plain": [
       "                 age       velocity\n",
       "count  175147.000000  175147.000000\n",
       "mean       34.193563      10.829835\n",
       "std        10.116689       3.917192\n",
       "min        18.000000       0.000000\n",
       "25%        27.000000       8.718521\n",
       "50%        32.000000      11.067475\n",
       "75%        39.000000      13.358614\n",
       "max       141.000000      35.947140"
      ]
     },
     "execution_count": 6,
     "metadata": {},
     "output_type": "execute_result"
    }
   ],
   "source": [
    "df.drop(axis = 1 , columns= ['start_station_latitude' ,'start_station_longitude', 'end_station_latitude'\n",
    "                            ,'end_station_longitude' , 'x_diff' , 'y_diff' , 'birth_year' \n",
    "                            ,'duration' , 'displacement'],inplace = True)\n",
    "df.describe()"
   ]
  },
  {
   "cell_type": "code",
   "execution_count": 7,
   "id": "e26edbf3",
   "metadata": {
    "slideshow": {
     "slide_type": "skip"
    }
   },
   "outputs": [
    {
     "data": {
      "text/plain": [
       "Male      130651\n",
       "Female     40844\n",
       "Other       3652\n",
       "Name: gender, dtype: int64"
      ]
     },
     "execution_count": 7,
     "metadata": {},
     "output_type": "execute_result"
    }
   ],
   "source": [
    "df.gender.value_counts()"
   ]
  },
  {
   "cell_type": "markdown",
   "id": "5358c3c9",
   "metadata": {
    "slideshow": {
     "slide_type": "skip"
    }
   },
   "source": [
    "#### Last steps of cleaning\n",
    "1) We can see that there exist some rows where the velocity is zero. So we will remove them because they will give no meaning for our analysis.(It's maybe error in the data itself or it might be the starting point is the same as the end point)<br>\n",
    "2) In the gender there exist (Other) category which is very small so I will drop them and make the analysis on both males and females.<br>\n",
    "3) In the age, There exist a lot of outliers. there are some records with age 140. We will drop all the rows with age bigger than 90."
   ]
  },
  {
   "cell_type": "code",
   "execution_count": 8,
   "id": "17c994f1",
   "metadata": {
    "slideshow": {
     "slide_type": "skip"
    }
   },
   "outputs": [],
   "source": [
    "# Dropping the rows with zero velocity\n",
    "df.drop(axis = 0 , inplace = True , index = df.query('velocity == 0').index)\n",
    "# Dropping the Other category in gender\n",
    "df.drop(axis = 0 , inplace = True , index = df.query('gender == \"Other\"').index)\n",
    "# Dropping ages bigger than 90\n",
    "df.drop(axis = 0 , inplace = True , index = df.query('age > 90').index)"
   ]
  },
  {
   "cell_type": "code",
   "execution_count": 9,
   "id": "f5958290",
   "metadata": {
    "slideshow": {
     "slide_type": "skip"
    }
   },
   "outputs": [
    {
     "data": {
      "text/html": [
       "<div>\n",
       "<style scoped>\n",
       "    .dataframe tbody tr th:only-of-type {\n",
       "        vertical-align: middle;\n",
       "    }\n",
       "\n",
       "    .dataframe tbody tr th {\n",
       "        vertical-align: top;\n",
       "    }\n",
       "\n",
       "    .dataframe thead th {\n",
       "        text-align: right;\n",
       "    }\n",
       "</style>\n",
       "<table border=\"1\" class=\"dataframe\">\n",
       "  <thead>\n",
       "    <tr style=\"text-align: right;\">\n",
       "      <th></th>\n",
       "      <th>user_type</th>\n",
       "      <th>gender</th>\n",
       "      <th>bike_share</th>\n",
       "      <th>age</th>\n",
       "      <th>velocity</th>\n",
       "    </tr>\n",
       "  </thead>\n",
       "  <tbody>\n",
       "    <tr>\n",
       "      <th>0</th>\n",
       "      <td>Customer</td>\n",
       "      <td>Male</td>\n",
       "      <td>No</td>\n",
       "      <td>35</td>\n",
       "      <td>0.037525</td>\n",
       "    </tr>\n",
       "    <tr>\n",
       "      <th>1</th>\n",
       "      <td>Customer</td>\n",
       "      <td>Male</td>\n",
       "      <td>No</td>\n",
       "      <td>47</td>\n",
       "      <td>0.157375</td>\n",
       "    </tr>\n",
       "    <tr>\n",
       "      <th>3</th>\n",
       "      <td>Subscriber</td>\n",
       "      <td>Male</td>\n",
       "      <td>Yes</td>\n",
       "      <td>45</td>\n",
       "      <td>5.475356</td>\n",
       "    </tr>\n",
       "    <tr>\n",
       "      <th>4</th>\n",
       "      <td>Subscriber</td>\n",
       "      <td>Male</td>\n",
       "      <td>No</td>\n",
       "      <td>60</td>\n",
       "      <td>6.681857</td>\n",
       "    </tr>\n",
       "    <tr>\n",
       "      <th>5</th>\n",
       "      <td>Subscriber</td>\n",
       "      <td>Female</td>\n",
       "      <td>No</td>\n",
       "      <td>36</td>\n",
       "      <td>6.345295</td>\n",
       "    </tr>\n",
       "  </tbody>\n",
       "</table>\n",
       "</div>"
      ],
      "text/plain": [
       "    user_type  gender bike_share  age  velocity\n",
       "0    Customer    Male         No   35  0.037525\n",
       "1    Customer    Male         No   47  0.157375\n",
       "3  Subscriber    Male        Yes   45  5.475356\n",
       "4  Subscriber    Male         No   60  6.681857\n",
       "5  Subscriber  Female         No   36  6.345295"
      ]
     },
     "execution_count": 9,
     "metadata": {},
     "output_type": "execute_result"
    }
   ],
   "source": [
    "df.head()"
   ]
  },
  {
   "cell_type": "markdown",
   "id": "18df9f42",
   "metadata": {},
   "source": [
    "These are the five variables we are interested in where the velocity is variable we are trying to explain using the others."
   ]
  },
  {
   "cell_type": "markdown",
   "id": "3ec80e7d",
   "metadata": {
    "slideshow": {
     "slide_type": "slide"
    }
   },
   "source": [
    "## Univariate Exploration\n",
    "\n",
    "Here we will interpret each variable alone starting with the velocity variable."
   ]
  },
  {
   "cell_type": "code",
   "execution_count": 10,
   "id": "8d029fe1",
   "metadata": {
    "slideshow": {
     "slide_type": "subslide"
    }
   },
   "outputs": [
    {
     "data": {
      "image/png": "[encoded data removed]",
      "text/plain": [
       "<Figure size 432x288 with 1 Axes>"
      ]
     },
     "metadata": {
      "needs_background": "light"
     },
     "output_type": "display_data"
    }
   ],
   "source": [
    "sb.histplot(df['velocity']);\n",
    "plt.xlim((0,25));\n",
    "plt.xlabel('Velocity (Km/h)');\n",
    "plt.axvline(df.velocity.mean(),color = 'red');\n",
    "plt.text(df.velocity.mean()*1.2, 3500*0.9, 'Mean: {:.2f} km/h'.format(df.velocity.mean()));"
   ]
  },
  {
   "cell_type": "markdown",
   "id": "cde4bd50",
   "metadata": {
    "slideshow": {
     "slide_type": "subslide"
    }
   },
   "source": [
    "We can see that the average speed is normally distrubted with mean 11.05 km/h. I expected that the distrubution would be normal since there will be fast bikers and others slow but the majority would be in between those two extrems.We don't need to perform any transfomations on this variable.<br><br>\n",
    "Now let's investigate the rest of the variables."
   ]
  },
  {
   "cell_type": "code",
   "execution_count": 11,
   "id": "1016b33f",
   "metadata": {
    "slideshow": {
     "slide_type": "subslide"
    }
   },
   "outputs": [
    {
     "data": {
      "image/png": "[encoded data removed]",
      "text/plain": [
       "<Figure size 1296x720 with 4 Axes>"
      ]
     },
     "metadata": {
      "needs_background": "light"
     },
     "output_type": "display_data"
    }
   ],
   "source": [
    "base_color = sb.color_palette()[0]\n",
    "plt.figure(figsize = [18, 10])\n",
    "plt.subplot(2,2,1)\n",
    "plt.xlabel('Age')\n",
    "xticks = np.arange(18,140,2)\n",
    "sb.histplot(df['age'],bins = xticks);\n",
    "plt.xticks(xticks,xticks);\n",
    "plt.xlim(18,70);\n",
    "plt.axvline(df.age.mean(),color = 'red')\n",
    "plt.subplot(2,2,2)\n",
    "sb.countplot(data=df, x='gender' , color = base_color);\n",
    "plt.ylabel('')\n",
    "plt.xlabel('Gender')\n",
    "male_perc = '{:.2f}%'.format(100 * df.query('gender == \"Male\"').shape[0] / df.shape[0])\n",
    "female_perc = '{:.2f}%'.format(100 * df.query('gender == \"Female\"').shape[0] / df.shape[0])\n",
    "plt.text(plt.xticks()[0][0],df.query('gender == \"Male\"').shape[0] -7000,male_perc, ha = 'center' , color = 'white')\n",
    "plt.text(plt.xticks()[0][1],df.query('gender == \"Female\"').shape[0] -7000,female_perc, ha = 'center' , color = 'white');\n",
    "plt.subplot(2,2,3)\n",
    "sb.countplot(data=df, x='user_type' , color = base_color , order = ['Subscriber','Customer']);\n",
    "plt.ylabel('Count')\n",
    "plt.xlabel('User Type')\n",
    "sub_perc = '{:.2f}%'.format(100 * df.query('user_type == \"Subscriber\"').shape[0] / df.shape[0])\n",
    "cust_perc = '{:.2f}%'.format(100 * df.query('user_type == \"Customer\"').shape[0] / df.shape[0])\n",
    "plt.text(plt.xticks()[0][0],df.query('user_type == \"Subscriber\"').shape[0] -7500,sub_perc, ha = 'center' , color = 'white')\n",
    "plt.text(plt.xticks()[0][1],df.query('user_type == \"Customer\"').shape[0] -7500,cust_perc, ha = 'center' , color = 'white')\n",
    "plt.subplot(2,2,4)\n",
    "sb.countplot(data=df, x='bike_share' , color = base_color , order = ['No','Yes']);\n",
    "plt.ylabel('')\n",
    "plt.xlabel('Bike share')\n",
    "no_perc = '{:.2f}%'.format(100 * df.query('bike_share == \"No\"').shape[0] / df.shape[0])\n",
    "yes_perc = '{:.2f}%'.format(100 * df.query('bike_share == \"Yes\"').shape[0] / df.shape[0])\n",
    "plt.text(plt.xticks()[0][0],df.query('bike_share == \"No\"').shape[0]-7500,no_perc, ha = 'center' , color = 'white')\n",
    "plt.text(plt.xticks()[0][1],df.query('bike_share == \"Yes\"').shape[0]-7500 ,yes_perc, ha = 'center' , color = 'white');"
   ]
  },
  {
   "cell_type": "markdown",
   "id": "6195ce93",
   "metadata": {
    "slideshow": {
     "slide_type": "subslide"
    }
   },
   "source": [
    "#### Comments:\n",
    "1) For the age distrubution of the bikers we can see that it tends to be normally distributed but it's right skewed. The mean of the distribution is 34 years.<br>\n",
    "2) We can see that the majority of the bikers from this data are males with 76.23% and one third of the bikers are females.<br>\n",
    "3) Most of the bikers are subscribers not customers and they do not share bikes."
   ]
  },
  {
   "cell_type": "markdown",
   "id": "6e3bfb5c",
   "metadata": {
    "slideshow": {
     "slide_type": "slide"
    }
   },
   "source": [
    "## Bivariate  Exploration\n",
    "\n",
    "Here we will interpret two variables at a time to see interactions between variables. We will begin first by the age and velocity."
   ]
  },
  {
   "cell_type": "code",
   "execution_count": 128,
   "id": "59c3ecde",
   "metadata": {
    "scrolled": true,
    "slideshow": {
     "slide_type": "subslide"
    }
   },
   "outputs": [
    {
     "data": {
      "image/png": "[encoded data removed]",
      "text/plain": [
       "<Figure size 1296x360 with 4 Axes>"
      ]
     },
     "metadata": {
      "needs_background": "light"
     },
     "output_type": "display_data"
    }
   ],
   "source": [
    "plt.figure(figsize = [18, 5])\n",
    "plt.suptitle('Age vs Velocity',fontsize = 14)\n",
    "plt.subplot(1,3,1)\n",
    "sb.regplot(data = df, x = 'age', y = 'velocity', truncate=False, x_jitter=0.3, scatter_kws={'alpha':1/20},line_kws={\"color\": \"red\"})\n",
    "plt.ylabel('Velocity (km/h)')\n",
    "plt.xlabel('Age')\n",
    "plt.xlim((19,70))\n",
    "plt.ylim((0,36))\n",
    "plt.subplot(1,3,2)\n",
    "plt.hist2d(data = df, x = 'age', y = 'velocity',cmap='cividis_r',cmin=0.5)\n",
    "plt.xlim((19,70))\n",
    "plt.xlabel('Age')\n",
    "plt.colorbar();\n",
    "plt.subplot(1,3,3)\n",
    "bin_edges = np.arange(17, df['age'].max()+5, 5)\n",
    "plt.xlim((19,70))\n",
    "plt.xlabel('Age')\n",
    "plt.yticks([9,9.5,10,10.5,11,11.5],[9,9.5,10,10.5,11,11.5])\n",
    "bin_centers = (bin_edges[1:] + bin_edges[:-1]) / 2\n",
    "data_bins = pd.cut(df['age'], bin_edges, right = False,include_lowest = True)\n",
    "means = df['velocity'].groupby(data_bins).mean()\n",
    "plt.errorbar(x = bin_centers, y = means);"
   ]
  },
  {
   "cell_type": "markdown",
   "id": "5d16b0a0",
   "metadata": {
    "slideshow": {
     "slide_type": "subslide"
    }
   },
   "source": [
    "#### Comments :\n",
    "1) There are many data points so the scatter plot didn't really show the data even after applying transperency and jitter.<br>\n",
    "2) I used heat map on the right which was better than scatter plot due to the large number of points plotted.<br>\n",
    "3) The regression line in the scatter plot shows that there is no linear relation between age and velocity.(the slope is nearly zero)<br>\n",
    "4) The line plot shows that the velocity increases then it decreases. That's because when we grow up we become more stronger till growing up makes us old and weak.<br><br>\n",
    "Now let's investigate other variables with the velocity:"
   ]
  },
  {
   "cell_type": "code",
   "execution_count": 13,
   "id": "00f56890",
   "metadata": {
    "slideshow": {
     "slide_type": "subslide"
    }
   },
   "outputs": [
    {
     "data": {
      "image/png": "[encoded data removed]",
      "text/plain": [
       "<Figure size 1296x360 with 2 Axes>"
      ]
     },
     "metadata": {
      "needs_background": "light"
     },
     "output_type": "display_data"
    }
   ],
   "source": [
    "plt.figure(figsize = [18, 5])\n",
    "base_color = sb.color_palette()[0]\n",
    "plt.suptitle('Gender vs Velocity',fontsize = 14)\n",
    "plt.subplot(1,2,1)\n",
    "sb.violinplot(data=df, x='gender', y='velocity',inner ='quartiles' , color = base_color);\n",
    "plt.ylabel('Velocity (km/h)')\n",
    "plt.xlabel('Gender')\n",
    "plt.subplot(1,2,2)\n",
    "sb.barplot(data=df, x='gender', y='velocity',color = base_color)\n",
    "male_mean = df.query('gender == \"Male\"')['velocity'].mean()\n",
    "female_mean =df.query('gender == \"Female\"')['velocity'].mean()\n",
    "plt.text(plt.xticks()[0][0],male_mean - 0.75 ,'{:.2f} km/h'.format(male_mean), ha = 'center' , color = 'white')\n",
    "plt.text(plt.xticks()[0][1],female_mean - 0.75 ,'{:.2f} km/h'.format(female_mean), ha = 'center' , color = 'white')\n",
    "plt.xlabel('Gender')\n",
    "plt.ylabel('');"
   ]
  },
  {
   "cell_type": "markdown",
   "id": "e2f9aa1c",
   "metadata": {
    "slideshow": {
     "slide_type": "subslide"
    }
   },
   "source": [
    "#### Comments :\n",
    "1) There is no big difference between both distrubutions.<br>\n",
    "2) The women have much more outliers than males. Which means that the fastest ones are women.<br>\n",
    "3) The Males are faster on average than women but not significantly faster.<br><br>\n",
    "\n",
    "Now we will look at the last two variables which are the user_type and bike_share."
   ]
  },
  {
   "cell_type": "code",
   "execution_count": 14,
   "id": "dbc04654",
   "metadata": {
    "slideshow": {
     "slide_type": "subslide"
    }
   },
   "outputs": [
    {
     "data": {
      "image/png": "[encoded data removed]",
      "text/plain": [
       "<Figure size 1296x360 with 2 Axes>"
      ]
     },
     "metadata": {
      "needs_background": "light"
     },
     "output_type": "display_data"
    }
   ],
   "source": [
    "plt.figure(figsize = [18, 5])\n",
    "base_color = sb.color_palette()[0]\n",
    "plt.subplot(1,2,1)\n",
    "plt.title('User type vs Velocity')\n",
    "sb.boxplot(data=df, x='user_type', y='velocity' , color = base_color , order = ['Subscriber', 'Customer']);\n",
    "plt.xlabel('User type')\n",
    "plt.ylabel('Velocity (km/h)')\n",
    "plt.subplot(1,2,2)\n",
    "plt.title('Bike share vs Velocity')\n",
    "sb.boxplot(data=df, x='bike_share', y='velocity' , color = base_color , order  = ['Yes', 'No']);\n",
    "plt.xlabel('Bike share')\n",
    "plt.ylabel('');"
   ]
  },
  {
   "cell_type": "markdown",
   "id": "b3013d44",
   "metadata": {
    "slideshow": {
     "slide_type": "subslide"
    }
   },
   "source": [
    "#### Comments :\n",
    "1) Subscibers tends to be much faster than customers. The average of subscribers is bigger than the customers.<br>\n",
    "2) The fastest bikers are subscibers.<br>\n",
    "3) From subscribers (All of the bikers who share their bikes are subscribers), Those who doesn't share their bikes are faster than those who does.<br>"
   ]
  },
  {
   "cell_type": "markdown",
   "id": "a7848caa",
   "metadata": {
    "slideshow": {
     "slide_type": "slide"
    }
   },
   "source": [
    "## Multivariate Exploration\n",
    "\n",
    "I mostly intersted in how the gender and age play roles in predecting velocity. And also how the gender and user type play roles in the prediction. Let's start with the gender and age."
   ]
  },
  {
   "cell_type": "code",
   "execution_count": 118,
   "id": "0cd19d0a",
   "metadata": {
    "slideshow": {
     "slide_type": "subslide"
    }
   },
   "outputs": [
    {
     "data": {
      "image/png": "[encoded data removed]",
      "text/plain": [
       "<Figure size 432.125x360 with 1 Axes>"
      ]
     },
     "metadata": {
      "needs_background": "light"
     },
     "output_type": "display_data"
    }
   ],
   "source": [
    "def mean_poly(x, y, bins = 10, **kwargs):\n",
    "    plt.xlim((19,70))\n",
    "    plt.title('Age and Gender vs Velocity')\n",
    "    if type(bins) == int:\n",
    "        bins = np.linspace(x.min(), x.max(), bins+1)\n",
    "    bin_centers = (bin_edges[1:] + bin_edges[:-1]) / 2\n",
    "    data_bins = pd.cut(x, bins, right = False,include_lowest = True)\n",
    "    means = y.groupby(data_bins).mean()\n",
    "    plt.errorbar(x = bin_centers, y = means, **kwargs)\n",
    "\n",
    "bin_edges = np.arange(17, df['age'].max()+5, 5)\n",
    "g = sb.FacetGrid(data = df, hue = 'gender', height = 5)\n",
    "g.map(mean_poly, \"age\", \"velocity\", bins = bin_edges)\n",
    "g.set_ylabels('Velocity (km/h)')\n",
    "g.set_xlabels('Age')\n",
    "g.add_legend(title='Gender');"
   ]
  },
  {
   "cell_type": "markdown",
   "id": "cf57ece5",
   "metadata": {
    "slideshow": {
     "slide_type": "subslide"
    }
   },
   "source": [
    "#### Comments :\n",
    "1) We can see that males are faster than women nearly for all ages. Since the blue line is above the yellow line which indicates that their velocity is higher.<br>\n",
    "2) I didn't use either heat map or scatter plot because there are many data points and they weren't clear enough.<br><br>\n",
    "\n",
    "Finally let's see the relation between gender and user_type vs velocity."
   ]
  },
  {
   "cell_type": "code",
   "execution_count": 71,
   "id": "9d2dc0f0",
   "metadata": {
    "slideshow": {
     "slide_type": "subslide"
    }
   },
   "outputs": [
    {
     "data": {
      "image/png": "[encoded data removed]",
      "text/plain": [
       "<Figure size 432x360 with 1 Axes>"
      ]
     },
     "metadata": {
      "needs_background": "light"
     },
     "output_type": "display_data"
    }
   ],
   "source": [
    "plt.figure(figsize=[6,5])\n",
    "sb.barplot(data = df, x = 'gender', y = 'velocity', hue = 'user_type' , hue_order=['Subscriber','Customer'] );\n",
    "plt.title('Gender and User type vs Velocity')\n",
    "plt.ylabel('Velocity (km/h)')\n",
    "plt.xlabel('Gender')\n",
    "var_1 = df.query('user_type == \"Subscriber\" and gender == \"Male\"').velocity.mean()\n",
    "var_2 = df.query('user_type == \"Customer\" and gender == \"Male\"').velocity.mean()\n",
    "var_3 = df.query('user_type == \"Subscriber\" and gender == \"Female\"').velocity.mean()\n",
    "var_4 = df.query('user_type == \"Customer\" and gender == \"Female\"').velocity.mean()\n",
    "plt.text(plt.xticks()[0][0]-0.2,var_1 - 0.7 ,'{:.2f}'.format(var_1), ha = 'center' , color = 'white')\n",
    "plt.text(plt.xticks()[0][0]+0.2,var_2 - 0.7 ,'{:.2f}'.format(var_2), ha = 'center' , color = 'white')\n",
    "plt.text(plt.xticks()[0][1]-0.2,var_3 - 0.7 ,'{:.2f}'.format(var_3), ha = 'center' , color = 'white')\n",
    "plt.text(plt.xticks()[0][1]+0.2,var_4 - 0.7 ,'{:.2f}'.format(var_4), ha = 'center' , color = 'white')\n",
    "plt.legend(loc = 5 ,bbox_to_anchor=(1.3, 0.5), title='User type');"
   ]
  },
  {
   "cell_type": "markdown",
   "id": "4c75147c",
   "metadata": {
    "slideshow": {
     "slide_type": "subslide"
    }
   },
   "source": [
    "#### Comments :\n",
    "1) We can see that subsribers have mean velocity higher than normal customers.<br>\n",
    "2) We can see also that males have higher mean velocity than females. Since males subscibers mean velocity is biiger than females and also this goes for the males customers.<br>"
   ]
  },
  {
   "cell_type": "markdown",
   "id": "bdebb934",
   "metadata": {
    "slideshow": {
     "slide_type": "slide"
    }
   },
   "source": [
    "### Talk about some of the relationships you observed in this part of the investigation. Were there features that strengthened each other in terms of looking at your feature(s) of interest?\n",
    "The relation between age and velocity didn't show any linear correlation. When we grow up the average velocity increases till the age of 37 then it decreases when we get older. Plots showed that men are faster than women on average (not significantly). But the fastest among the bikers were women. The velocity is normally distrubted. Most of the subscribers (90.5%) doesn't share there bikes. The bikers who doesn't share there bikes tends to be faster than those who doesn't."
   ]
  },
  {
   "cell_type": "markdown",
   "id": "cd9dffb4",
   "metadata": {
    "slideshow": {
     "slide_type": "slide"
    }
   },
   "source": [
    "## Were there any interesting or surprising interactions between features?\n",
    "All the results were expected. But my expectaions were higher such that the relation between age and average velocity would be stronger and that men would be faster more significantly than it appeared."
   ]
  },
  {
   "cell_type": "code",
   "execution_count": null,
   "id": "82d767af",
   "metadata": {
    "slideshow": {
     "slide_type": "skip"
    }
   },
   "outputs": [],
   "source": []
  }
 ],
 "metadata": {
  "celltoolbar": "Slideshow",
  "kernelspec": {
   "display_name": "Python 3",
   "language": "python",
   "name": "python3"
  },
  "language_info": {
   "codemirror_mode": {
    "name": "ipython",
    "version": 3
   },
   "file_extension": ".py",
   "mimetype": "text/x-python",
   "name": "python",
   "nbconvert_exporter": "python",
   "pygments_lexer": "ipython3",
   "version": "3.8.8"
  }
 },
 "nbformat": 4,
 "nbformat_minor": 5
}
